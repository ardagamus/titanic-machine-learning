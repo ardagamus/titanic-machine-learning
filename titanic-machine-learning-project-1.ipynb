{
 "cells": [
  {
   "cell_type": "markdown",
   "id": "3b8a3316",
   "metadata": {
    "papermill": {
     "duration": 0.003184,
     "end_time": "2025-07-28T10:16:02.934658",
     "exception": false,
     "start_time": "2025-07-28T10:16:02.931474",
     "status": "completed"
    },
    "tags": []
   },
   "source": [
    "Aritra here, first machine learning project, which basically a copy job. Here, we'll be working with the machine learning data set of titanic and try to predict as accurately as possible who survived. First, we import the dataset."
   ]
  },
  {
   "cell_type": "code",
   "execution_count": 1,
   "id": "c4a2952f",
   "metadata": {
    "_cell_guid": "b1076dfc-b9ad-4769-8c92-a6c4dae69d19",
    "_uuid": "8f2839f25d086af736a60e9eeb907d3b93b6e0e5",
    "execution": {
     "iopub.execute_input": "2025-07-28T10:16:02.941709Z",
     "iopub.status.busy": "2025-07-28T10:16:02.941394Z",
     "iopub.status.idle": "2025-07-28T10:16:04.949624Z",
     "shell.execute_reply": "2025-07-28T10:16:04.948496Z"
    },
    "papermill": {
     "duration": 2.013636,
     "end_time": "2025-07-28T10:16:04.951403",
     "exception": false,
     "start_time": "2025-07-28T10:16:02.937767",
     "status": "completed"
    },
    "tags": []
   },
   "outputs": [
    {
     "name": "stdout",
     "output_type": "stream",
     "text": [
      "/kaggle/input/titanic/train.csv\n",
      "/kaggle/input/titanic/test.csv\n",
      "/kaggle/input/titanic/gender_submission.csv\n"
     ]
    }
   ],
   "source": [
    "# This Python 3 environment comes with many helpful analytics libraries installed\n",
    "# It is defined by the kaggle/python Docker image: https://github.com/kaggle/docker-python\n",
    "# For example, here's several helpful packages to load\n",
    "\n",
    "import numpy as np # linear algebra\n",
    "import pandas as pd # data processing, CSV file I/O (e.g. pd.read_csv)\n",
    "\n",
    "# Input data files are available in the read-only \"../input/\" directory\n",
    "# For example, running this (by clicking run or pressing Shift+Enter) will list all files under the input directory\n",
    "\n",
    "import os\n",
    "for dirname, _, filenames in os.walk('/kaggle/input'):\n",
    "    for filename in filenames:\n",
    "        print(os.path.join(dirname, filename))\n",
    "\n",
    "\n",
    "# You can write up to 20GB to the current directory (/kaggle/working/) that gets preserved as output when you create a version using \"Save & Run All\" \n",
    "# You can also write temporary files to /kaggle/temp/, but they won't be saved outside of the current session"
   ]
  },
  {
   "cell_type": "markdown",
   "id": "c07542ba",
   "metadata": {
    "papermill": {
     "duration": 0.002794,
     "end_time": "2025-07-28T10:16:04.957220",
     "exception": false,
     "start_time": "2025-07-28T10:16:04.954426",
     "status": "completed"
    },
    "tags": []
   },
   "source": [
    "We now store the training dataset as a pandas dataframe."
   ]
  },
  {
   "cell_type": "code",
   "execution_count": 2,
   "id": "a06349f4",
   "metadata": {
    "execution": {
     "iopub.execute_input": "2025-07-28T10:16:04.964228Z",
     "iopub.status.busy": "2025-07-28T10:16:04.963784Z",
     "iopub.status.idle": "2025-07-28T10:16:05.015100Z",
     "shell.execute_reply": "2025-07-28T10:16:05.014159Z"
    },
    "papermill": {
     "duration": 0.056631,
     "end_time": "2025-07-28T10:16:05.016723",
     "exception": false,
     "start_time": "2025-07-28T10:16:04.960092",
     "status": "completed"
    },
    "tags": []
   },
   "outputs": [
    {
     "data": {
      "text/html": [
       "<div>\n",
       "<style scoped>\n",
       "    .dataframe tbody tr th:only-of-type {\n",
       "        vertical-align: middle;\n",
       "    }\n",
       "\n",
       "    .dataframe tbody tr th {\n",
       "        vertical-align: top;\n",
       "    }\n",
       "\n",
       "    .dataframe thead th {\n",
       "        text-align: right;\n",
       "    }\n",
       "</style>\n",
       "<table border=\"1\" class=\"dataframe\">\n",
       "  <thead>\n",
       "    <tr style=\"text-align: right;\">\n",
       "      <th></th>\n",
       "      <th>PassengerId</th>\n",
       "      <th>Survived</th>\n",
       "      <th>Pclass</th>\n",
       "      <th>Name</th>\n",
       "      <th>Sex</th>\n",
       "      <th>Age</th>\n",
       "      <th>SibSp</th>\n",
       "      <th>Parch</th>\n",
       "      <th>Ticket</th>\n",
       "      <th>Fare</th>\n",
       "      <th>Cabin</th>\n",
       "      <th>Embarked</th>\n",
       "    </tr>\n",
       "  </thead>\n",
       "  <tbody>\n",
       "    <tr>\n",
       "      <th>0</th>\n",
       "      <td>1</td>\n",
       "      <td>0</td>\n",
       "      <td>3</td>\n",
       "      <td>Braund, Mr. Owen Harris</td>\n",
       "      <td>male</td>\n",
       "      <td>22.0</td>\n",
       "      <td>1</td>\n",
       "      <td>0</td>\n",
       "      <td>A/5 21171</td>\n",
       "      <td>7.2500</td>\n",
       "      <td>NaN</td>\n",
       "      <td>S</td>\n",
       "    </tr>\n",
       "    <tr>\n",
       "      <th>1</th>\n",
       "      <td>2</td>\n",
       "      <td>1</td>\n",
       "      <td>1</td>\n",
       "      <td>Cumings, Mrs. John Bradley (Florence Briggs Th...</td>\n",
       "      <td>female</td>\n",
       "      <td>38.0</td>\n",
       "      <td>1</td>\n",
       "      <td>0</td>\n",
       "      <td>PC 17599</td>\n",
       "      <td>71.2833</td>\n",
       "      <td>C85</td>\n",
       "      <td>C</td>\n",
       "    </tr>\n",
       "    <tr>\n",
       "      <th>2</th>\n",
       "      <td>3</td>\n",
       "      <td>1</td>\n",
       "      <td>3</td>\n",
       "      <td>Heikkinen, Miss. Laina</td>\n",
       "      <td>female</td>\n",
       "      <td>26.0</td>\n",
       "      <td>0</td>\n",
       "      <td>0</td>\n",
       "      <td>STON/O2. 3101282</td>\n",
       "      <td>7.9250</td>\n",
       "      <td>NaN</td>\n",
       "      <td>S</td>\n",
       "    </tr>\n",
       "    <tr>\n",
       "      <th>3</th>\n",
       "      <td>4</td>\n",
       "      <td>1</td>\n",
       "      <td>1</td>\n",
       "      <td>Futrelle, Mrs. Jacques Heath (Lily May Peel)</td>\n",
       "      <td>female</td>\n",
       "      <td>35.0</td>\n",
       "      <td>1</td>\n",
       "      <td>0</td>\n",
       "      <td>113803</td>\n",
       "      <td>53.1000</td>\n",
       "      <td>C123</td>\n",
       "      <td>S</td>\n",
       "    </tr>\n",
       "    <tr>\n",
       "      <th>4</th>\n",
       "      <td>5</td>\n",
       "      <td>0</td>\n",
       "      <td>3</td>\n",
       "      <td>Allen, Mr. William Henry</td>\n",
       "      <td>male</td>\n",
       "      <td>35.0</td>\n",
       "      <td>0</td>\n",
       "      <td>0</td>\n",
       "      <td>373450</td>\n",
       "      <td>8.0500</td>\n",
       "      <td>NaN</td>\n",
       "      <td>S</td>\n",
       "    </tr>\n",
       "  </tbody>\n",
       "</table>\n",
       "</div>"
      ],
      "text/plain": [
       "   PassengerId  Survived  Pclass  \\\n",
       "0            1         0       3   \n",
       "1            2         1       1   \n",
       "2            3         1       3   \n",
       "3            4         1       1   \n",
       "4            5         0       3   \n",
       "\n",
       "                                                Name     Sex   Age  SibSp  \\\n",
       "0                            Braund, Mr. Owen Harris    male  22.0      1   \n",
       "1  Cumings, Mrs. John Bradley (Florence Briggs Th...  female  38.0      1   \n",
       "2                             Heikkinen, Miss. Laina  female  26.0      0   \n",
       "3       Futrelle, Mrs. Jacques Heath (Lily May Peel)  female  35.0      1   \n",
       "4                           Allen, Mr. William Henry    male  35.0      0   \n",
       "\n",
       "   Parch            Ticket     Fare Cabin Embarked  \n",
       "0      0         A/5 21171   7.2500   NaN        S  \n",
       "1      0          PC 17599  71.2833   C85        C  \n",
       "2      0  STON/O2. 3101282   7.9250   NaN        S  \n",
       "3      0            113803  53.1000  C123        S  \n",
       "4      0            373450   8.0500   NaN        S  "
      ]
     },
     "execution_count": 2,
     "metadata": {},
     "output_type": "execute_result"
    }
   ],
   "source": [
    "train_data=pd.read_csv(\"/kaggle/input/titanic/train.csv\")\n",
    "train_data.head()"
   ]
  },
  {
   "cell_type": "code",
   "execution_count": 3,
   "id": "00cfcb07",
   "metadata": {
    "execution": {
     "iopub.execute_input": "2025-07-28T10:16:05.023970Z",
     "iopub.status.busy": "2025-07-28T10:16:05.023638Z",
     "iopub.status.idle": "2025-07-28T10:16:05.043090Z",
     "shell.execute_reply": "2025-07-28T10:16:05.042129Z"
    },
    "papermill": {
     "duration": 0.024939,
     "end_time": "2025-07-28T10:16:05.044663",
     "exception": false,
     "start_time": "2025-07-28T10:16:05.019724",
     "status": "completed"
    },
    "tags": []
   },
   "outputs": [
    {
     "data": {
      "text/html": [
       "<div>\n",
       "<style scoped>\n",
       "    .dataframe tbody tr th:only-of-type {\n",
       "        vertical-align: middle;\n",
       "    }\n",
       "\n",
       "    .dataframe tbody tr th {\n",
       "        vertical-align: top;\n",
       "    }\n",
       "\n",
       "    .dataframe thead th {\n",
       "        text-align: right;\n",
       "    }\n",
       "</style>\n",
       "<table border=\"1\" class=\"dataframe\">\n",
       "  <thead>\n",
       "    <tr style=\"text-align: right;\">\n",
       "      <th></th>\n",
       "      <th>PassengerId</th>\n",
       "      <th>Pclass</th>\n",
       "      <th>Name</th>\n",
       "      <th>Sex</th>\n",
       "      <th>Age</th>\n",
       "      <th>SibSp</th>\n",
       "      <th>Parch</th>\n",
       "      <th>Ticket</th>\n",
       "      <th>Fare</th>\n",
       "      <th>Cabin</th>\n",
       "      <th>Embarked</th>\n",
       "    </tr>\n",
       "  </thead>\n",
       "  <tbody>\n",
       "    <tr>\n",
       "      <th>0</th>\n",
       "      <td>892</td>\n",
       "      <td>3</td>\n",
       "      <td>Kelly, Mr. James</td>\n",
       "      <td>male</td>\n",
       "      <td>34.5</td>\n",
       "      <td>0</td>\n",
       "      <td>0</td>\n",
       "      <td>330911</td>\n",
       "      <td>7.8292</td>\n",
       "      <td>NaN</td>\n",
       "      <td>Q</td>\n",
       "    </tr>\n",
       "    <tr>\n",
       "      <th>1</th>\n",
       "      <td>893</td>\n",
       "      <td>3</td>\n",
       "      <td>Wilkes, Mrs. James (Ellen Needs)</td>\n",
       "      <td>female</td>\n",
       "      <td>47.0</td>\n",
       "      <td>1</td>\n",
       "      <td>0</td>\n",
       "      <td>363272</td>\n",
       "      <td>7.0000</td>\n",
       "      <td>NaN</td>\n",
       "      <td>S</td>\n",
       "    </tr>\n",
       "    <tr>\n",
       "      <th>2</th>\n",
       "      <td>894</td>\n",
       "      <td>2</td>\n",
       "      <td>Myles, Mr. Thomas Francis</td>\n",
       "      <td>male</td>\n",
       "      <td>62.0</td>\n",
       "      <td>0</td>\n",
       "      <td>0</td>\n",
       "      <td>240276</td>\n",
       "      <td>9.6875</td>\n",
       "      <td>NaN</td>\n",
       "      <td>Q</td>\n",
       "    </tr>\n",
       "    <tr>\n",
       "      <th>3</th>\n",
       "      <td>895</td>\n",
       "      <td>3</td>\n",
       "      <td>Wirz, Mr. Albert</td>\n",
       "      <td>male</td>\n",
       "      <td>27.0</td>\n",
       "      <td>0</td>\n",
       "      <td>0</td>\n",
       "      <td>315154</td>\n",
       "      <td>8.6625</td>\n",
       "      <td>NaN</td>\n",
       "      <td>S</td>\n",
       "    </tr>\n",
       "    <tr>\n",
       "      <th>4</th>\n",
       "      <td>896</td>\n",
       "      <td>3</td>\n",
       "      <td>Hirvonen, Mrs. Alexander (Helga E Lindqvist)</td>\n",
       "      <td>female</td>\n",
       "      <td>22.0</td>\n",
       "      <td>1</td>\n",
       "      <td>1</td>\n",
       "      <td>3101298</td>\n",
       "      <td>12.2875</td>\n",
       "      <td>NaN</td>\n",
       "      <td>S</td>\n",
       "    </tr>\n",
       "  </tbody>\n",
       "</table>\n",
       "</div>"
      ],
      "text/plain": [
       "   PassengerId  Pclass                                          Name     Sex  \\\n",
       "0          892       3                              Kelly, Mr. James    male   \n",
       "1          893       3              Wilkes, Mrs. James (Ellen Needs)  female   \n",
       "2          894       2                     Myles, Mr. Thomas Francis    male   \n",
       "3          895       3                              Wirz, Mr. Albert    male   \n",
       "4          896       3  Hirvonen, Mrs. Alexander (Helga E Lindqvist)  female   \n",
       "\n",
       "    Age  SibSp  Parch   Ticket     Fare Cabin Embarked  \n",
       "0  34.5      0      0   330911   7.8292   NaN        Q  \n",
       "1  47.0      1      0   363272   7.0000   NaN        S  \n",
       "2  62.0      0      0   240276   9.6875   NaN        Q  \n",
       "3  27.0      0      0   315154   8.6625   NaN        S  \n",
       "4  22.0      1      1  3101298  12.2875   NaN        S  "
      ]
     },
     "execution_count": 3,
     "metadata": {},
     "output_type": "execute_result"
    }
   ],
   "source": [
    "test_data=pd.read_csv(\"/kaggle/input/titanic/test.csv\")\n",
    "test_data.head()"
   ]
  },
  {
   "cell_type": "markdown",
   "id": "3907534b",
   "metadata": {
    "papermill": {
     "duration": 0.002745,
     "end_time": "2025-07-28T10:16:05.050533",
     "exception": false,
     "start_time": "2025-07-28T10:16:05.047788",
     "status": "completed"
    },
    "tags": []
   },
   "source": [
    "So, we have a sample submission, gender_submission.csv, which claims that all women survived and all men died. We crosscheck this with the training data by checking actually what percentage of men and women survived."
   ]
  },
  {
   "cell_type": "code",
   "execution_count": 4,
   "id": "53fa8cbf",
   "metadata": {
    "execution": {
     "iopub.execute_input": "2025-07-28T10:16:05.057899Z",
     "iopub.status.busy": "2025-07-28T10:16:05.057536Z",
     "iopub.status.idle": "2025-07-28T10:16:05.074233Z",
     "shell.execute_reply": "2025-07-28T10:16:05.073302Z"
    },
    "papermill": {
     "duration": 0.022213,
     "end_time": "2025-07-28T10:16:05.075746",
     "exception": false,
     "start_time": "2025-07-28T10:16:05.053533",
     "status": "completed"
    },
    "tags": []
   },
   "outputs": [
    {
     "name": "stdout",
     "output_type": "stream",
     "text": [
      "% of women who survived 0.7420382165605095\n"
     ]
    }
   ],
   "source": [
    "women=train_data.loc[train_data.Sex=='female'][\"Survived\"]\n",
    "rate_women=sum(women)/len(women)\n",
    "\n",
    "print(\"% of women who survived\",rate_women)"
   ]
  },
  {
   "cell_type": "code",
   "execution_count": 5,
   "id": "cfa2f255",
   "metadata": {
    "execution": {
     "iopub.execute_input": "2025-07-28T10:16:05.083034Z",
     "iopub.status.busy": "2025-07-28T10:16:05.082773Z",
     "iopub.status.idle": "2025-07-28T10:16:05.089235Z",
     "shell.execute_reply": "2025-07-28T10:16:05.088245Z"
    },
    "papermill": {
     "duration": 0.011653,
     "end_time": "2025-07-28T10:16:05.090584",
     "exception": false,
     "start_time": "2025-07-28T10:16:05.078931",
     "status": "completed"
    },
    "tags": []
   },
   "outputs": [
    {
     "name": "stdout",
     "output_type": "stream",
     "text": [
      "% of men who survived 0.18890814558058924\n"
     ]
    }
   ],
   "source": [
    "men=train_data.loc[train_data.Sex=='male'][\"Survived\"]\n",
    "rate_men=sum(men)/len(men)\n",
    "\n",
    "print(\"% of men who survived\", rate_men)"
   ]
  },
  {
   "cell_type": "markdown",
   "id": "38b69267",
   "metadata": {
    "papermill": {
     "duration": 0.002833,
     "end_time": "2025-07-28T10:16:05.096489",
     "exception": false,
     "start_time": "2025-07-28T10:16:05.093656",
     "status": "completed"
    },
    "tags": []
   },
   "source": [
    "We now build a random forest using sckikit learn, where we will primarily be making decisions using the columns \"Parch\",\"Pclass\",\"Sex\",\"Sibsp\". Since some of this data is not strictly numerical, for example, Sex is male or female and Pclass has letters we use one-hot encoding to convert this to something machine learning models understand, in that. get_dummies function makes say Sex into two columns Sex_male and Sex_female, where male and female columns have 1 or 0. We can often just make one column if its binary or according to our needs to reduce redudancy using drop_first=True in the get dummies function as an extra argument. \n",
    "\n",
    "One-hot encoding makes separate columns instead assigning say 1 to male and 0 to female to avoid any assumptions one is valued more than the other, especially for columns with more than one values."
   ]
  },
  {
   "cell_type": "code",
   "execution_count": 6,
   "id": "9651ec17",
   "metadata": {
    "execution": {
     "iopub.execute_input": "2025-07-28T10:16:05.104123Z",
     "iopub.status.busy": "2025-07-28T10:16:05.103770Z",
     "iopub.status.idle": "2025-07-28T10:16:07.525815Z",
     "shell.execute_reply": "2025-07-28T10:16:07.524897Z"
    },
    "papermill": {
     "duration": 2.427654,
     "end_time": "2025-07-28T10:16:07.527408",
     "exception": false,
     "start_time": "2025-07-28T10:16:05.099754",
     "status": "completed"
    },
    "tags": []
   },
   "outputs": [
    {
     "name": "stdout",
     "output_type": "stream",
     "text": [
      "Your submission is succesfully saved\n"
     ]
    }
   ],
   "source": [
    "from sklearn.ensemble import RandomForestClassifier\n",
    "\n",
    "y=train_data[\"Survived\"]\n",
    "features=[\"Pclass\",\"Sex\",\"SibSp\",\"Parch\"]\n",
    "X=pd.get_dummies(train_data[features])\n",
    "X_test=pd.get_dummies(test_data[features])\n",
    "\n",
    "model=RandomForestClassifier(n_estimators=100,max_depth=5,random_state=1)\n",
    "model.fit(X,y)\n",
    "predictions=model.predict(X_test)\n",
    "\n",
    "output=pd.DataFrame({'PassengerId':test_data.PassengerId,'Survived':predictions})\n",
    "output.to_csv('submission.csv',index=False)\n",
    "\n",
    "print(\"Your submission is succesfully saved\")"
   ]
  },
  {
   "cell_type": "markdown",
   "id": "19b48d28",
   "metadata": {
    "papermill": {
     "duration": 0.002875,
     "end_time": "2025-07-28T10:16:07.533607",
     "exception": false,
     "start_time": "2025-07-28T10:16:07.530732",
     "status": "completed"
    },
    "tags": []
   },
   "source": [
    "model is Random Forest Classifier, with a 100 trees, each with max depth 5. Random state=1 refers to the starting seed number so we can reproduce results, we can put 42,720, anything in its place, but without it, we'll get different results everytime and it may be difficult to find mistakes.\n",
    "\n",
    "We store the predictions in the aptly named variable and make a output pandas dataframe and eventually a csv from it."
   ]
  },
  {
   "cell_type": "markdown",
   "id": "e5f34306",
   "metadata": {
    "papermill": {
     "duration": 0.003159,
     "end_time": "2025-07-28T10:16:07.539928",
     "exception": false,
     "start_time": "2025-07-28T10:16:07.536769",
     "status": "completed"
    },
    "tags": []
   },
   "source": []
  }
 ],
 "metadata": {
  "kaggle": {
   "accelerator": "none",
   "dataSources": [
    {
     "databundleVersionId": 26502,
     "sourceId": 3136,
     "sourceType": "competition"
    }
   ],
   "dockerImageVersionId": 31089,
   "isGpuEnabled": false,
   "isInternetEnabled": true,
   "language": "python",
   "sourceType": "notebook"
  },
  "kernelspec": {
   "display_name": "Python 3",
   "language": "python",
   "name": "python3"
  },
  "language_info": {
   "codemirror_mode": {
    "name": "ipython",
    "version": 3
   },
   "file_extension": ".py",
   "mimetype": "text/x-python",
   "name": "python",
   "nbconvert_exporter": "python",
   "pygments_lexer": "ipython3",
   "version": "3.11.13"
  },
  "papermill": {
   "default_parameters": {},
   "duration": 10.358801,
   "end_time": "2025-07-28T10:16:08.263300",
   "environment_variables": {},
   "exception": null,
   "input_path": "__notebook__.ipynb",
   "output_path": "__notebook__.ipynb",
   "parameters": {},
   "start_time": "2025-07-28T10:15:57.904499",
   "version": "2.6.0"
  }
 },
 "nbformat": 4,
 "nbformat_minor": 5
}
